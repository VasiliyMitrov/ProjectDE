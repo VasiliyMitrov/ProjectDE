{
  "nbformat": 4,
  "nbformat_minor": 0,
  "metadata": {
    "colab": {
      "provenance": []
    },
    "kernelspec": {
      "name": "python3",
      "display_name": "Python 3"
    },
    "language_info": {
      "name": "python"
    }
  },
  "cells": [
    {
      "cell_type": "code",
      "source": [
        "!pip install faker"
      ],
      "metadata": {
        "colab": {
          "base_uri": "https://localhost:8080/"
        },
        "id": "FlqmnX7PWoNX",
        "outputId": "fd2a070c-5b14-46bc-8681-7e326c27ef09"
      },
      "execution_count": 1,
      "outputs": [
        {
          "output_type": "stream",
          "name": "stdout",
          "text": [
            "Requirement already satisfied: faker in /usr/local/lib/python3.10/dist-packages (33.1.0)\n",
            "Requirement already satisfied: python-dateutil>=2.4 in /usr/local/lib/python3.10/dist-packages (from faker) (2.8.2)\n",
            "Requirement already satisfied: typing-extensions in /usr/local/lib/python3.10/dist-packages (from faker) (4.12.2)\n",
            "Requirement already satisfied: six>=1.5 in /usr/local/lib/python3.10/dist-packages (from python-dateutil>=2.4->faker) (1.16.0)\n"
          ]
        }
      ]
    },
    {
      "cell_type": "code",
      "source": [
        "import csv\n",
        "from faker import Faker\n",
        "import random\n",
        "\n",
        "fake = Faker()\n",
        "\n",
        "num_records = 100000\n",
        "\n",
        "http_methods = ['GET', 'POST', 'PUT', 'DELETE']\n",
        "response_codes = [200, 301, 404, 500]\n",
        "\n",
        "file_path = \"web_server_logs.csv\"\n",
        "\n",
        "with open(file_path, mode='w', newline='') as file:\n",
        "    writer = csv.writer(file)\n",
        "    writer.writerow(['ip', 'timestamp', 'method', 'url', 'response_code', 'response_size'])\n",
        "\n",
        "    for _ in range(num_records):\n",
        "        ip = fake.ipv4()\n",
        "        timestamp = fake.date_time_this_year().isoformat()\n",
        "        method = random.choice(http_methods)\n",
        "        url = fake.uri_path()\n",
        "        response_code = random.choice(response_codes)\n",
        "        response_size = random.randint(100, 10000)\n",
        "\n",
        "        writer.writerow([ip, timestamp, method, url, response_code, response_size])\n",
        "\n",
        "print(f\"Сгенерировано {num_records} записей и сохранено в {file_path}\")"
      ],
      "metadata": {
        "colab": {
          "base_uri": "https://localhost:8080/"
        },
        "id": "Z8SjxerWWbKn",
        "outputId": "935fff55-e5d7-492c-f333-87fef1770a9f"
      },
      "execution_count": 2,
      "outputs": [
        {
          "output_type": "stream",
          "name": "stdout",
          "text": [
            "Сгенерировано 100000 записей и сохранено в web_server_logs.csv\n"
          ]
        }
      ]
    },
    {
      "cell_type": "code",
      "source": [
        "from pyspark.sql import SparkSession\n",
        "from pyspark.sql.functions import col, count, sum as _sum\n",
        "\n",
        "# Создаем SparkSession\n",
        "spark = SparkSession.builder.appName(\"WebServerLogAnalysis\").getOrCreate()\n",
        "\n",
        "# Загружаем CSV\n",
        "logs = spark.read.csv(\"web_server_logs.csv\", header=True, inferSchema=True)\n",
        "\n",
        "# 1. Top 10 active IP addresses\n",
        "top_ips = (\n",
        "    logs.groupBy(\"ip\")\n",
        "    .agg(count(\"ip\").alias(\"request_count\"))\n",
        "    .orderBy(col(\"request_count\").desc())\n",
        "    .limit(10)\n",
        ")\n",
        "\n",
        "print(\"Top 10 active IP addresses:\")\n",
        "top_ips.show()\n",
        "\n",
        "# 2. Request count by HTTP method\n",
        "method_count = logs.groupBy(\"method\").agg(count(\"method\").alias(\"method_count\"))\n",
        "\n",
        "print(\"Request count by HTTP method:\")\n",
        "method_count.show()\n",
        "\n",
        "# 3. Number of 404 response codes\n",
        "count_404 = logs.filter(col(\"response_code\") == 404).count()\n",
        "\n",
        "print(f\"Number of 404 response codes: {count_404}\")\n",
        "\n",
        "# 4. Total response size by day\n",
        "response_size_by_day = (\n",
        "    logs.withColumn(\"date\", col(\"timestamp\").substr(1, 10))\n",
        "    .groupBy(\"date\")\n",
        "    .agg(_sum(\"response_size\").alias(\"total_response_size\"))\n",
        "    .orderBy(\"date\")\n",
        ")\n",
        "\n",
        "print(\"Total response size by day:\")\n",
        "response_size_by_day.show()"
      ],
      "metadata": {
        "colab": {
          "base_uri": "https://localhost:8080/"
        },
        "id": "rASbilmnWbM-",
        "outputId": "01e4ca90-eaa6-469c-9261-ba0d4742dfcb"
      },
      "execution_count": 3,
      "outputs": [
        {
          "output_type": "stream",
          "name": "stdout",
          "text": [
            "Top 10 active IP addresses:\n",
            "+---------------+-------------+\n",
            "|             ip|request_count|\n",
            "+---------------+-------------+\n",
            "|  63.119.98.151|            2|\n",
            "|  100.156.45.89|            1|\n",
            "|   186.66.74.46|            1|\n",
            "| 173.158.234.82|            1|\n",
            "|  55.216.39.119|            1|\n",
            "|   77.61.168.79|            1|\n",
            "|  196.119.38.32|            1|\n",
            "| 46.199.250.238|            1|\n",
            "|152.167.203.215|            1|\n",
            "|  29.98.184.231|            1|\n",
            "+---------------+-------------+\n",
            "\n",
            "Request count by HTTP method:\n",
            "+------+------------+\n",
            "|method|method_count|\n",
            "+------+------------+\n",
            "|  POST|       25176|\n",
            "|DELETE|       24870|\n",
            "|   PUT|       24958|\n",
            "|   GET|       24996|\n",
            "+------+------------+\n",
            "\n",
            "Number of 404 response codes: 25026\n",
            "Total response size by day:\n",
            "+----------+-------------------+\n",
            "|      date|total_response_size|\n",
            "+----------+-------------------+\n",
            "|2024-01-01|            1558613|\n",
            "|2024-01-02|            1338162|\n",
            "|2024-01-03|            1416670|\n",
            "|2024-01-04|            1493858|\n",
            "|2024-01-05|            1673687|\n",
            "|2024-01-06|            1672761|\n",
            "|2024-01-07|            1477475|\n",
            "|2024-01-08|            1288339|\n",
            "|2024-01-09|            1439501|\n",
            "|2024-01-10|            1384268|\n",
            "|2024-01-11|            1559138|\n",
            "|2024-01-12|            1377612|\n",
            "|2024-01-13|            1377109|\n",
            "|2024-01-14|            1462785|\n",
            "|2024-01-15|            1606708|\n",
            "|2024-01-16|            1440130|\n",
            "|2024-01-17|            1573459|\n",
            "|2024-01-18|            1401497|\n",
            "|2024-01-19|            1571233|\n",
            "|2024-01-20|            1425550|\n",
            "+----------+-------------------+\n",
            "only showing top 20 rows\n",
            "\n"
          ]
        }
      ]
    },
    {
      "cell_type": "code",
      "source": [],
      "metadata": {
        "id": "RKCblX7eWbPX"
      },
      "execution_count": 3,
      "outputs": []
    },
    {
      "cell_type": "code",
      "source": [],
      "metadata": {
        "id": "dW6QPuTCWbRe"
      },
      "execution_count": 3,
      "outputs": []
    },
    {
      "cell_type": "code",
      "source": [],
      "metadata": {
        "id": "lK1hi_-_WbT9"
      },
      "execution_count": 3,
      "outputs": []
    },
    {
      "cell_type": "code",
      "source": [],
      "metadata": {
        "id": "jWxgFrFyGQHd"
      },
      "execution_count": 3,
      "outputs": []
    },
    {
      "cell_type": "code",
      "source": [],
      "metadata": {
        "id": "kGZ52jfFGQJt"
      },
      "execution_count": 3,
      "outputs": []
    },
    {
      "cell_type": "code",
      "source": [],
      "metadata": {
        "id": "YsXgnEj5GQMG"
      },
      "execution_count": 3,
      "outputs": []
    },
    {
      "cell_type": "code",
      "source": [],
      "metadata": {
        "id": "JdQTgDxHGQOX"
      },
      "execution_count": 3,
      "outputs": []
    },
    {
      "cell_type": "code",
      "source": [],
      "metadata": {
        "id": "c2kj02sbGQQl"
      },
      "execution_count": 3,
      "outputs": []
    }
  ]
}